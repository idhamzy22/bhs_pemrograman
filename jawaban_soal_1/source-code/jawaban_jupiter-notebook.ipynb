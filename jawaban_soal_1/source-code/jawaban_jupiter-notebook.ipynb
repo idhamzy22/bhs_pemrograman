{
 "cells": [
  {
   "cell_type": "markdown",
   "metadata": {},
   "source": [
    "# Hasil Eksekusi\n",
    "Function\n",
    "Hasil dari fungsi `tambah(3, 5)` adalah 8.\n",
    "\n",
    "Recursive Function\n",
    "Hasil dari fungsi rekursif `faktorial(5)` adalah 120.\n",
    "\n",
    "Berikut adalah capture hasil eksekusi dalam Jupyter Notebook:"
   ]
  },
  {
   "cell_type": "code",
   "execution_count": 1,
   "metadata": {},
   "outputs": [
    {
     "name": "stdout",
     "output_type": "stream",
     "text": [
      "Hasil tambah: 8\n",
      "Hasil faktorial: 120\n"
     ]
    }
   ],
   "source": [
    "# Function\n",
    "def tambah(a, b):\n",
    "    return a + b\n",
    "\n",
    "hasil_tambah = tambah(3, 5)\n",
    "print(\"Hasil tambah:\", hasil_tambah)  # Output: 8\n",
    "\n",
    "# Recursive Function\n",
    "def faktorial(n):\n",
    "    if n == 0:\n",
    "        return 1\n",
    "    else:\n",
    "        return n * faktorial(n-1)\n",
    "\n",
    "hasil_faktorial = faktorial(5)\n",
    "print(\"Hasil faktorial:\", hasil_faktorial)  # Output: 120"
   ]
  }
 ],
 "metadata": {
  "kernelspec": {
   "display_name": "Python 3",
   "language": "python",
   "name": "python3"
  },
  "language_info": {
   "codemirror_mode": {
    "name": "ipython",
    "version": 3
   },
   "file_extension": ".py",
   "mimetype": "text/x-python",
   "name": "python",
   "nbconvert_exporter": "python",
   "pygments_lexer": "ipython3",
   "version": "3.10.12"
  }
 },
 "nbformat": 4,
 "nbformat_minor": 2
}
