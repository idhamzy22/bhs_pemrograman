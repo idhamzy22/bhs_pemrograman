{
 "cells": [
  {
   "cell_type": "code",
   "execution_count": 1,
   "metadata": {},
   "outputs": [
    {
     "name": "stdout",
     "output_type": "stream",
     "text": [
      "Error: Pembagian dengan nol tidak diperbolehkan.\n",
      "Error: Operasi tidak valid antara tipe data yang berbeda.\n",
      "Hasil: 5.0\n",
      "Blok finally selalu dijalankan.\n"
     ]
    }
   ],
   "source": [
    "# Contoh 1: Menangani kesalahan pembagian dengan nol\n",
    "try:\n",
    "    hasil = 10 / 0\n",
    "except ZeroDivisionError:\n",
    "    print(\"Error: Pembagian dengan nol tidak diperbolehkan.\")\n",
    "\n",
    "# Contoh 2: Menangani kesalahan tipe data\n",
    "try:\n",
    "    hasil = 10 + \"5\"\n",
    "except TypeError:\n",
    "    print(\"Error: Operasi tidak valid antara tipe data yang berbeda.\")\n",
    "\n",
    "# Contoh 3: Menggunakan blok else dan finally\n",
    "try:\n",
    "    hasil = 10 / 2\n",
    "except ZeroDivisionError:\n",
    "    print(\"Error: Pembagian dengan nol tidak diperbolehkan.\")\n",
    "else:\n",
    "    print(\"Hasil:\", hasil)\n",
    "finally:\n",
    "    print(\"Blok finally selalu dijalankan.\")\n"
   ]
  }
 ],
 "metadata": {
  "kernelspec": {
   "display_name": "Python 3",
   "language": "python",
   "name": "python3"
  },
  "language_info": {
   "codemirror_mode": {
    "name": "ipython",
    "version": 3
   },
   "file_extension": ".py",
   "mimetype": "text/x-python",
   "name": "python",
   "nbconvert_exporter": "python",
   "pygments_lexer": "ipython3",
   "version": "3.10.12"
  }
 },
 "nbformat": 4,
 "nbformat_minor": 2
}
