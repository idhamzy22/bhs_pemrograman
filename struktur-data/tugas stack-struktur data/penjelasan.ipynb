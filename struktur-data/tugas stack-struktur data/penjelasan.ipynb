{
 "cells": [
  {
   "cell_type": "markdown",
   "metadata": {},
   "source": [
    "Program ini adalah aplikasi terminal interaktif yang mengelola tumpukan (stack) dengan memberikan judul film menggunakan struktur data stack di C++. Berikut penjelasan dari program stack yang saya buat:"
   ]
  },
  {
   "cell_type": "markdown",
   "metadata": {},
   "source": [
    "1. Header and Banner Display:\n",
    "* \"displayHeader\" dan \"displayBanner\" menampilkan header dan banner program dengan format teks berwarna. "
   ]
  },
  {
   "cell_type": "markdown",
   "metadata": {},
   "source": [
    "2. Menu Display\n",
    "* \"displayMenu\" menampilkan opsi menu yang tersedia untuk pengguna."
   ]
  },
  {
   "cell_type": "markdown",
   "metadata": {},
   "source": [
    "3. Screen Management:\n",
    "* \"clearScreen\" membersihkan layar terminal.\n",
    "* \"loadingAnimation\" menampilkan animasi loading saat program sedang memproses input."
   ]
  },
  {
   "cell_type": "markdown",
   "metadata": {},
   "source": [
    "4. Error Handling:\n",
    "* \"errorMessage\" menampilkan pesan error berwarna merah."
   ]
  },
  {
   "cell_type": "markdown",
   "metadata": {},
   "source": [
    "5. Main Operations:\n",
    "* \"push\": Menambahkan judul film ke dalam stack.\n",
    "* \"pop\": Menghapus judul film teratas dari stack.\n",
    "* \"peek\": Menampilkan judul film teratas di stack tanpa menghapusnya.\n",
    "* \"isEmpty\": Memeriksa apakah stack kosong.\n",
    "* \"size\": Menampilkan jumlah film dalam stack dan daftar judul film.\n",
    "* \"showHistory\": Menampilkan histori operasi yang dilakukan pada stack.\n",
    "* \"showHelp\": Menampilkan bantuan atau deskripsi singkat dari setiap perintah."
   ]
  },
  {
   "cell_type": "markdown",
   "metadata": {},
   "source": [
    "6. Visualisasi Stack:\n",
    "* \"displayStackVisual\" menampilkan visualisasi stack secara vertikal, dengan judul film ditampilkan dari yang teratas ke terbawah."
   ]
  },
  {
   "cell_type": "markdown",
   "metadata": {},
   "source": [
    "7. Main Loop:\n",
    "\n",
    "* Program berjalan dalam loop utama yang terus-menerus menampilkan menu dan meminta input pengguna hingga pengguna memilih untuk keluar (exit)."
   ]
  },
  {
   "cell_type": "markdown",
   "metadata": {},
   "source": [
    "Setiap operasi diberikan delay menggunakan \"this_thread::sleep_for\" untuk memberikan efek animasi, dan program menggunakan \"unordered_map\" untuk merencanakan dengan detail input pengguna ke operasi yang sesuai."
   ]
  }
 ],
 "metadata": {
  "language_info": {
   "name": "python"
  }
 },
 "nbformat": 4,
 "nbformat_minor": 2
}
