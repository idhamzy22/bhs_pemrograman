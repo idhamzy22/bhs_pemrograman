{
 "cells": [
  {
   "cell_type": "markdown",
   "metadata": {},
   "source": [
    "# RINGKASAN MATERI"
   ]
  },
  {
   "cell_type": "markdown",
   "metadata": {},
   "source": [
    "1. DEFINISI\n",
    "\n",
    "-Array (Python): Struktur data untuk menyimpan dan mengorganisasi kumpulan data.\n",
    "\n",
    "-Data Structure: Penting bagi programmer untuk memahami dan menguasai cara menyimpan, mengatur, mengelompokkan, dan merepresentasikan data.\n",
    "\n",
    "2. SET\n",
    "\n",
    "-Set: Tipe data kolektif dalam Python yang digunakan untuk menyimpan beberapa nilai dalam satu variabel dengan ketentuan:\n",
    "\n",
    "1) Nilai unik: Tidak ada duplikasi.\n",
    "\n",
    "2) Tidak dapat diubah: Nilai yang sudah dimasukkan tidak bisa diubah lagi.\n",
    "\n",
    "3) Tidak berurutan: Tidak dapat diakses dengan indeks"
   ]
  },
  {
   "cell_type": "markdown",
   "metadata": {},
   "source": [
    "-Menggunakan kurung kurawal:"
   ]
  },
  {
   "cell_type": "code",
   "execution_count": 4,
   "metadata": {},
   "outputs": [
    {
     "name": "stdout",
     "output_type": "stream",
     "text": [
      "{'Basith', 'Wahid', 'Lendis', 'Huda'}\n"
     ]
    }
   ],
   "source": [
    "student_set = {'Huda', 'Lendis', 'Wahid', 'Basith'}\n",
    "print(student_set)"
   ]
  },
  {
   "cell_type": "markdown",
   "metadata": {},
   "source": [
    "-Mengubah list menjadi set:"
   ]
  },
  {
   "cell_type": "code",
   "execution_count": 5,
   "metadata": {},
   "outputs": [
    {
     "name": "stdout",
     "output_type": "stream",
     "text": [
      "{'mango', 'Apple'}\n"
     ]
    }
   ],
   "source": [
    "fruit_set = set(['mango', 'Apple'])\n",
    "print(fruit_set)"
   ]
  },
  {
   "cell_type": "markdown",
   "metadata": {},
   "source": [
    "-Set dengan berbagai tipe data:"
   ]
  },
  {
   "cell_type": "code",
   "execution_count": 6,
   "metadata": {},
   "outputs": [
    {
     "name": "stdout",
     "output_type": "stream",
     "text": [
      "{('A', 'B'), True, 5, 'man', 'animal'}\n"
     ]
    }
   ],
   "source": [
    "set_mix = {'man', 'animal', 5, True, ('A', 'B')}\n",
    "print(set_mix)"
   ]
  },
  {
   "cell_type": "markdown",
   "metadata": {},
   "source": [
    "# KARAKTERISTIK SET:"
   ]
  },
  {
   "cell_type": "markdown",
   "metadata": {},
   "source": [
    "A. Tidak Berurutan\n",
    "\n",
    "-Tidak dapat menggunakan indeks untuk mengakses nilai dalam set:"
   ]
  },
  {
   "cell_type": "markdown",
   "metadata": {},
   "source": [
    "contoh kesalahan:"
   ]
  },
  {
   "cell_type": "code",
   "execution_count": 7,
   "metadata": {},
   "outputs": [
    {
     "ename": "TypeError",
     "evalue": "'set' object is not subscriptable",
     "output_type": "error",
     "traceback": [
      "\u001b[0;31m---------------------------------------------------------------------------\u001b[0m",
      "\u001b[0;31mTypeError\u001b[0m                                 Traceback (most recent call last)",
      "Cell \u001b[0;32mIn[7], line 2\u001b[0m\n\u001b[1;32m      1\u001b[0m my_set \u001b[38;5;241m=\u001b[39m {\u001b[38;5;124m'\u001b[39m\u001b[38;5;124ma\u001b[39m\u001b[38;5;124m'\u001b[39m}\n\u001b[0;32m----> 2\u001b[0m \u001b[38;5;28mprint\u001b[39m(\u001b[43mmy_set\u001b[49m\u001b[43m[\u001b[49m\u001b[38;5;241;43m0\u001b[39;49m\u001b[43m]\u001b[49m)  \u001b[38;5;66;03m# Error: 'set' object is not subscriptable\u001b[39;00m\n",
      "\u001b[0;31mTypeError\u001b[0m: 'set' object is not subscriptable"
     ]
    }
   ],
   "source": [
    "my_set = {'a'}\n",
    "print(my_set[0])  # Error: 'set' object is not subscriptable"
   ]
  },
  {
   "cell_type": "markdown",
   "metadata": {},
   "source": [
    "B. Tidak Dapat Diubah\n",
    "\n",
    "-Anggota set harus dari tipe data immutable:\n"
   ]
  },
  {
   "cell_type": "markdown",
   "metadata": {},
   "source": [
    "contoh valid:"
   ]
  },
  {
   "cell_type": "code",
   "execution_count": 8,
   "metadata": {},
   "outputs": [],
   "source": [
    "set_fruit = {'mango', 'lemon', 'avocado', True, 1, 2, 3}"
   ]
  },
  {
   "cell_type": "markdown",
   "metadata": {},
   "source": [
    "contoh tidak valid:"
   ]
  },
  {
   "cell_type": "code",
   "execution_count": 9,
   "metadata": {},
   "outputs": [
    {
     "ename": "TypeError",
     "evalue": "unhashable type: 'list'",
     "output_type": "error",
     "traceback": [
      "\u001b[0;31m---------------------------------------------------------------------------\u001b[0m",
      "\u001b[0;31mTypeError\u001b[0m                                 Traceback (most recent call last)",
      "Cell \u001b[0;32mIn[9], line 1\u001b[0m\n\u001b[0;32m----> 1\u001b[0m x \u001b[38;5;241m=\u001b[39m \u001b[38;5;28;43mset\u001b[39;49m\u001b[43m(\u001b[49m\u001b[43m[\u001b[49m\u001b[38;5;241;43m35\u001b[39;49m\u001b[43m,\u001b[49m\u001b[43m \u001b[49m\u001b[38;5;241;43m100\u001b[39;49m\u001b[43m,\u001b[49m\u001b[43m \u001b[49m\u001b[43m[\u001b[49m\u001b[38;5;124;43m'\u001b[39;49m\u001b[38;5;124;43ma\u001b[39;49m\u001b[38;5;124;43m'\u001b[39;49m\u001b[43m,\u001b[49m\u001b[43m \u001b[49m\u001b[38;5;124;43m'\u001b[39;49m\u001b[38;5;124;43mb\u001b[39;49m\u001b[38;5;124;43m'\u001b[39;49m\u001b[43m]\u001b[49m\u001b[43m]\u001b[49m\u001b[43m)\u001b[49m  \u001b[38;5;66;03m# Error: unhashable type: 'list'\u001b[39;00m\n",
      "\u001b[0;31mTypeError\u001b[0m: unhashable type: 'list'"
     ]
    }
   ],
   "source": [
    "x = set([35, 100, ['a', 'b']])  # Error: unhashable type: 'list'"
   ]
  },
  {
   "cell_type": "markdown",
   "metadata": {},
   "source": [
    "C. Tidak Ada Nilai Duplikat\n",
    "\n",
    "-Set tidak menerima nilai duplikat:"
   ]
  },
  {
   "cell_type": "markdown",
   "metadata": {},
   "source": [
    "contoh:"
   ]
  },
  {
   "cell_type": "code",
   "execution_count": 10,
   "metadata": {},
   "outputs": [
    {
     "name": "stdout",
     "output_type": "stream",
     "text": [
      "{'is', 'bright', 'morning', 'which', 'very', 'this'}\n"
     ]
    }
   ],
   "source": [
    "unique_word = {'morning', 'this', 'is', 'morning', 'which', 'very', 'bright'}\n",
    "print(unique_word)  # Output: {'that', 'very', 'this', 'morning', 'sunny', 'is'}"
   ]
  },
  {
   "cell_type": "markdown",
   "metadata": {},
   "source": [
    "KESIMPULAN:\n",
    "\n",
    "Set pada Python adalah struktur data yang unik karena tidak mendukung nilai duplikat, tidak bisa diakses dengan indeks, dan anggotanya harus immutable. Memahami dan menguasai penggunaan set sangat penting bagi programmer untuk mengelola data secara efisien."
   ]
  },
  {
   "cell_type": "markdown",
   "metadata": {},
   "source": [
    "# MENAMBAHKAN/MEMPERBARUI ELEMEN SET\n",
    "\n",
    "-Penambahan Set:\n",
    "\n",
    "1) Elemen dapat ditambahkan ke set menggunakan metode add() dan update().\n",
    "\n",
    "2) add(element) menambahkan satu elemen ke set.\n",
    "\n",
    "3) update(iterable) dapat menambahkan beberapa elemen sekaligus dari set lain atau daftar."
   ]
  },
  {
   "cell_type": "markdown",
   "metadata": {},
   "source": [
    "contoh:"
   ]
  },
  {
   "cell_type": "code",
   "execution_count": 11,
   "metadata": {},
   "outputs": [
    {
     "name": "stdout",
     "output_type": "stream",
     "text": [
      "{'b', 'c', 'a'}\n",
      "{'d', 'a', 'g', 'e', 'c', 'f', 'i', 'b', 'h'}\n"
     ]
    }
   ],
   "source": [
    "alphabet_set = {'a', 'b', 'c'}\n",
    "print(alphabet_set)  # Output: {'a', 'c', 'b'}\n",
    "\n",
    "alphabet_set.add('d')\n",
    "alphabet_set.add('e')\n",
    "alphabet_set.update({'f', 'g'})\n",
    "alphabet_set.update(['h', 'i'])\n",
    "\n",
    "print(alphabet_set)  # Output: {'d', 'i', 'e', 'a', 'b', 'g', 'h', 'f', 'c'}"
   ]
  },
  {
   "cell_type": "markdown",
   "metadata": {},
   "source": [
    "# MENGHAPUS/MENGELUARKAN ELEMEN SET\n",
    "\n",
    "-Penghapusan Set:\n",
    "\n",
    "1) remove(value): Menghapus nilai yang ditentukan. Menghasilkan error jika nilai tidak ada.\n",
    "\n",
    "2) discard(value): Menghapus nilai yang ditentukan. Tidak menghasilkan error jika nilai tidak ada.\n",
    "\n",
    "3) pop(): Menghapus dan mengembalikan elemen sembarang dari set.\n",
    "\n",
    "4) clear(): Menghapus semua elemen dari set."
   ]
  },
  {
   "cell_type": "markdown",
   "metadata": {},
   "source": [
    "contoh:"
   ]
  },
  {
   "cell_type": "code",
   "execution_count": 12,
   "metadata": {},
   "outputs": [
    {
     "name": "stdout",
     "output_type": "stream",
     "text": [
      "{False, True, 100, 'virtual', ('a', 'b'), 'virtuous'}\n",
      "{False, True, 'virtual', ('a', 'b'), 'virtuous'}\n",
      "{False, True, 'virtual', 'virtuous'}\n",
      "Removed value = False\n",
      "{True, 'virtual', 'virtuous'}\n",
      "set()\n"
     ]
    }
   ],
   "source": [
    "set_example = {'virtual', 'virtuous', 100, ('a', 'b'), False, True}\n",
    "print(set_example)  # Output: {False, True, 100, 'maya', 'budi', ('a', 'b')}\n",
    "\n",
    "set_example.remove(100)\n",
    "print(set_example)  # Output: {False, True, 'maya', 'budi', ('a', 'b')}\n",
    "\n",
    "set_example.discard(('a', 'b'))\n",
    "print(set_example)  # Output: {False, True, 'maya', 'budi'}\n",
    "\n",
    "removed_value = set_example.pop()\n",
    "print(f\"Removed value = {removed_value}\")\n",
    "print(set_example)  # Output: {True, 'maya', 'budi'}\n",
    "\n",
    "set_example.clear()\n",
    "print(set_example)  # Output: set()"
   ]
  },
  {
   "cell_type": "markdown",
   "metadata": {},
   "source": [
    "# Fungsi Bawaan:\n",
    "\n",
    "1) add(): Menambahkan satu elemen ke set.\n",
    "\n",
    "2) clear(): Menghapus seluruh set.\n",
    "\n",
    "\n",
    "Kesimpulannya, gambar-gambar tersebut memberikan gambaran umum tentang cara memanipulasi set di Python, termasuk menambahkan, memperbarui, dan menghapus elemen, bersama dengan deskripsi fungsi-fungsi utama yang digunakan untuk melakukan operasi ini."
   ]
  },
  {
   "cell_type": "markdown",
   "metadata": {},
   "source": [
    "* copy() : Make acopy of one set into a new set\n",
    "* difference() : Performing the difference operation between two sets\n",
    "* difference_update() : Delete other set members that sre in the curent set\n",
    "* discard() : Removing one member from the set\n",
    "* intersection() : Performing a slice operation between two sets\n",
    "* intersection_update() : Updating the member that is the slice of two\n",
    "* isdisjoint() : Returns value True if two sets have no slice\n",
    "* issusbset() : Returns value True if another set has members from the current set\n",
    "* issuperset() : Returns value True if the current set has members from another set\n",
    "* pop() : Removes and returns deleted values from a set\n",
    "* remove() : Removing a value from a set"
   ]
  },
  {
   "cell_type": "markdown",
   "metadata": {},
   "source": [
    "* symmetric difference() : Perform the complement operation between two sets\n",
    "* symmetric difference_update() : Updating the set of complement results\n",
    "* union() : Performs a joint operation of two or more sets\n",
    "* update() : Updating the set by adding a specified value"
   ]
  }
 ],
 "metadata": {
  "kernelspec": {
   "display_name": "Python 3",
   "language": "python",
   "name": "python3"
  },
  "language_info": {
   "codemirror_mode": {
    "name": "ipython",
    "version": 3
   },
   "file_extension": ".py",
   "mimetype": "text/x-python",
   "name": "python",
   "nbconvert_exporter": "python",
   "pygments_lexer": "ipython3",
   "version": "3.10.12"
  }
 },
 "nbformat": 4,
 "nbformat_minor": 2
}
